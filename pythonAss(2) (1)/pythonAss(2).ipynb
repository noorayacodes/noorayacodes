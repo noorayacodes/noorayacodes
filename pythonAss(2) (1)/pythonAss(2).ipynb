{
  "nbformat": 4,
  "nbformat_minor": 0,
  "metadata": {
    "colab": {
      "provenance": [],
      "toc_visible": true
    },
    "kernelspec": {
      "name": "python3",
      "display_name": "Python 3"
    },
    "language_info": {
      "name": "python"
    }
  },
  "cells": [
    {
      "cell_type": "markdown",
      "source": [
        "## **Python Assignment**\n"
      ],
      "metadata": {
        "id": "muN-fISJ8fJy"
      }
    },
    {
      "cell_type": "code",
      "source": [
        "Excercise 1. Prime Numbers\n",
        "Write a Python program that checks whether a given number is prime or not.\n",
        "A prime number is a natural number greater than 1 that has no positive divisors other than 1 and itself."
      ],
      "metadata": {
        "id": "bYj47QZ_8w3-"
      },
      "execution_count": null,
      "outputs": []
    },
    {
      "cell_type": "code",
      "source": [
        "value = int(input('Enter the value: '))\n",
        "if value % 7 == 0:\n",
        "    print('The value is divisible by 7')\n",
        "elif value %  2!= 0:\n",
        "   print('The value is divisible by 1')\n",
        "else:\n",
        "    print('The value is not prime')"
      ],
      "metadata": {
        "colab": {
          "base_uri": "https://localhost:8080/"
        },
        "id": "S9dXARmI0xu4",
        "outputId": "236d1694-0208-4bd8-b5a0-be3cbc4bc6a2"
      },
      "execution_count": null,
      "outputs": [
        {
          "output_type": "stream",
          "name": "stdout",
          "text": [
            "Enter the value: 13\n",
            "The value is divisible by 1\n"
          ]
        }
      ]
    },
    {
      "cell_type": "markdown",
      "source": [
        "Ex - 2 Product of Random Numbers\n",
        "Develop a Python program that generates two random numbers and asks the user to enter the product of these numbers.\n",
        "The program should then check if the user's answer is correct and display an appropriate message."
      ],
      "metadata": {
        "id": "hji940ovBVvL"
      }
    },
    {
      "cell_type": "code",
      "source": [
        "import random         #importing 'random' module for generate or guess any number.\n",
        "random.randint(1,50)"
      ],
      "metadata": {
        "colab": {
          "base_uri": "https://localhost:8080/"
        },
        "id": "kj_cCHJcBeVJ",
        "outputId": "86e96d02-a5b0-45ae-8ac0-d99213df16b0"
      },
      "execution_count": null,
      "outputs": [
        {
          "output_type": "execute_result",
          "data": {
            "text/plain": [
              "17"
            ]
          },
          "metadata": {},
          "execution_count": 25
        }
      ]
    },
    {
      "cell_type": "code",
      "source": [
        "random.randint(1,100)   # I took number in 1 to 100 for code"
      ],
      "metadata": {
        "colab": {
          "base_uri": "https://localhost:8080/"
        },
        "id": "hCnJlANqvg6k",
        "outputId": "bbc6fbd5-de16-4957-f90e-be8b03f5681e"
      },
      "execution_count": null,
      "outputs": [
        {
          "output_type": "execute_result",
          "data": {
            "text/plain": [
              "53"
            ]
          },
          "metadata": {},
          "execution_count": 26
        }
      ]
    },
    {
      "cell_type": "code",
      "source": [
        "prize = random.randint(1,100)\n",
        "\n",
        "guess = int(input('Enter the number'))    # guess- user will give input here\n",
        "counter = 1                         # took counter = 1 for count how many attempts user weill take\n",
        "while guess != prize:         # I took while look because we dont know exact prize number\n",
        "    if guess < prize:\n",
        "        print('Guess the higher number')        # took 'if' for guess higher number\n",
        "    else:\n",
        "        print('Guess the lower number')          # took 'else' statement for guess lower number\n",
        "\n",
        "    guess = int(input('Enter the number'))\n",
        "    counter+=1\n",
        "\n",
        "print('You guessed the right number')\n",
        "print('You took',counter,'attempts')"
      ],
      "metadata": {
        "colab": {
          "base_uri": "https://localhost:8080/"
        },
        "id": "jCaFec5SFQQG",
        "outputId": "0143c28b-908c-4614-d5f7-976daf4f0101"
      },
      "execution_count": null,
      "outputs": [
        {
          "output_type": "stream",
          "name": "stdout",
          "text": [
            "Enter the number5\n",
            "Guess the higher number\n",
            "Enter the number50\n",
            "Guess the higher number\n",
            "Enter the number60\n",
            "Guess the higher number\n",
            "Enter the number70\n",
            "Guess the higher number\n",
            "Enter the number80\n",
            "Guess the lower number\n",
            "Enter the number75\n",
            "Guess the lower number\n",
            "Enter the number74\n",
            "Guess the lower number\n",
            "Enter the number73\n",
            "You guessed the right number\n",
            "You took 8 attempts\n"
          ]
        }
      ]
    },
    {
      "cell_type": "markdown",
      "source": [
        "Exercise 3: Squares of Even/Odd Numbers\n",
        "\n",
        "Create a Python script that prints the squares of all even or odd numbers within the range of 100 to 200. Choose either even or odd numbers and document your choice in the code."
      ],
      "metadata": {
        "id": "MF3S1qo04pXD"
      }
    },
    {
      "cell_type": "code",
      "source": [
        "for number in range(100, 201):\n",
        "    if number % 2 == 0:  # Check if the number is even\n",
        "        square = number ** 2  # Calculate the square\n",
        "        print(f\"The square of {number} is {square}\")"
      ],
      "metadata": {
        "colab": {
          "base_uri": "https://localhost:8080/"
        },
        "id": "tblfj-0dFXZ6",
        "outputId": "f9a81c42-7e13-494e-b32b-f8c99ce63e5f"
      },
      "execution_count": null,
      "outputs": [
        {
          "output_type": "stream",
          "name": "stdout",
          "text": [
            "The square of 100 is 10000\n",
            "The square of 102 is 10404\n",
            "The square of 104 is 10816\n",
            "The square of 106 is 11236\n",
            "The square of 108 is 11664\n",
            "The square of 110 is 12100\n",
            "The square of 112 is 12544\n",
            "The square of 114 is 12996\n",
            "The square of 116 is 13456\n",
            "The square of 118 is 13924\n",
            "The square of 120 is 14400\n",
            "The square of 122 is 14884\n",
            "The square of 124 is 15376\n",
            "The square of 126 is 15876\n",
            "The square of 128 is 16384\n",
            "The square of 130 is 16900\n",
            "The square of 132 is 17424\n",
            "The square of 134 is 17956\n",
            "The square of 136 is 18496\n",
            "The square of 138 is 19044\n",
            "The square of 140 is 19600\n",
            "The square of 142 is 20164\n",
            "The square of 144 is 20736\n",
            "The square of 146 is 21316\n",
            "The square of 148 is 21904\n",
            "The square of 150 is 22500\n",
            "The square of 152 is 23104\n",
            "The square of 154 is 23716\n",
            "The square of 156 is 24336\n",
            "The square of 158 is 24964\n",
            "The square of 160 is 25600\n",
            "The square of 162 is 26244\n",
            "The square of 164 is 26896\n",
            "The square of 166 is 27556\n",
            "The square of 168 is 28224\n",
            "The square of 170 is 28900\n",
            "The square of 172 is 29584\n",
            "The square of 174 is 30276\n",
            "The square of 176 is 30976\n",
            "The square of 178 is 31684\n",
            "The square of 180 is 32400\n",
            "The square of 182 is 33124\n",
            "The square of 184 is 33856\n",
            "The square of 186 is 34596\n",
            "The square of 188 is 35344\n",
            "The square of 190 is 36100\n",
            "The square of 192 is 36864\n",
            "The square of 194 is 37636\n",
            "The square of 196 is 38416\n",
            "The square of 198 is 39204\n",
            "The square of 200 is 40000\n"
          ]
        }
      ]
    },
    {
      "cell_type": "code",
      "source": [
        "Exercise 4: Word counter\n",
        "write a program to count the number of words in a given text.\n",
        "example:\n",
        "input_text = \"This is a sample text. This text will be used to demonstrate the word counter.\"\n",
        "Expected output:\n",
        "'This': 2\n",
        "'is': 1\n",
        "'a': 1\n",
        "'sample': 1\n",
        "'text.': 1"
      ],
      "metadata": {
        "id": "RZCexn-rPGgo"
      },
      "execution_count": null,
      "outputs": []
    },
    {
      "cell_type": "code",
      "source": [
        "def count_words(text):\n",
        "  \"\"\"Counts the occurrences of each word in a given text.\"\"\"\n",
        "  word_counts = {}\n",
        "  words = text.split()  # Split the string into a list of words\n",
        "\n",
        "  for word in words:              # here using 'for loop'\n",
        "    if word in word_counts:\n",
        "      word_counts[word] += 1        # \"+=\" for counting duplicate words\n",
        "    else:\n",
        "      word_counts[word] = 1\n",
        "\n",
        "  for word, count in word_counts.items():\n",
        "    print(f\"'{word}': {count}\")\n",
        "\n",
        "# Example usage\n",
        "input_text = \"This is a sample text. This text will be used to demonstrate the word counter.\"\n",
        "count_words(input_text)"
      ],
      "metadata": {
        "colab": {
          "base_uri": "https://localhost:8080/"
        },
        "id": "YE5H9OvFELnw",
        "outputId": "7aaff7b2-8009-4515-ea3c-5cc3fc18a4a7"
      },
      "execution_count": null,
      "outputs": [
        {
          "output_type": "stream",
          "name": "stdout",
          "text": [
            "'This': 2\n",
            "'is': 1\n",
            "'a': 1\n",
            "'sample': 1\n",
            "'text.': 1\n",
            "'text': 1\n",
            "'will': 1\n",
            "'be': 1\n",
            "'used': 1\n",
            "'to': 1\n",
            "'demonstrate': 1\n",
            "'the': 1\n",
            "'word': 1\n",
            "'counter.': 1\n"
          ]
        }
      ]
    },
    {
      "cell_type": "code",
      "source": [
        "Exercise 5: Check for Palindrome\n",
        "Write a Python function called is_palindrome that takes a string as input and returns True if the string is a palindrome, and False otherwise. A palindrome is a word, phrase, number, or other sequence of characters that reads the same forward and backward, ignoring spaces, punctuation, and capitalization.\n",
        "Example:\n",
        "Input: \"racecar\"\n",
        "Expected Output: True"
      ],
      "metadata": {
        "id": "KGyxFz0JPMQC"
      },
      "execution_count": null,
      "outputs": []
    },
    {
      "cell_type": "code",
      "source": [
        "import re\n",
        "\n",
        "def a(text):\n",
        "\n",
        "  processed_text = re.sub(r'[^a-zA-Z0-9]', '', text).lower()\n",
        "\n",
        "  return processed_text == processed_text[::-1]\n",
        "\n",
        "string = \"racecar\"\n",
        "if is_palindrome(string):\n",
        "  print(f\"'{string}' is a palindrome.\")\n",
        "else:\n",
        "  print(f\"'{string}' is not a palindrome.\")"
      ],
      "metadata": {
        "colab": {
          "base_uri": "https://localhost:8080/"
        },
        "id": "7PkP6T0hSIkH",
        "outputId": "a42e6129-e07a-4cef-aed3-66a6dcc25120"
      },
      "execution_count": null,
      "outputs": [
        {
          "output_type": "stream",
          "name": "stdout",
          "text": [
            "'racecar' is a palindrome.\n"
          ]
        }
      ]
    }
  ]
}